{
 "cells": [
  {
   "cell_type": "code",
   "execution_count": 1,
   "metadata": {},
   "outputs": [],
   "source": [
    "import numpy as np\n",
    "import pandas as pd\n",
    "import tensorflow as tf\n",
    "import random\n",
    "from sklearn import preprocessing\n",
    "import collections"
   ]
  },
  {
   "cell_type": "code",
   "execution_count": 2,
   "metadata": {},
   "outputs": [],
   "source": [
    "look_back_period = 30\n",
    "future_look_period = 3"
   ]
  },
  {
   "cell_type": "code",
   "execution_count": 3,
   "metadata": {},
   "outputs": [],
   "source": [
    "data = pd.read_csv('ETH-USD.csv', names='time low high open close volume'.split()) "
   ]
  },
  {
   "cell_type": "code",
   "execution_count": 4,
   "metadata": {},
   "outputs": [],
   "source": [
    "data.set_index('time', inplace = True)"
   ]
  },
  {
   "cell_type": "code",
   "execution_count": 5,
   "metadata": {},
   "outputs": [],
   "source": [
    "data.sort_index(inplace = True)"
   ]
  },
  {
   "cell_type": "code",
   "execution_count": 6,
   "metadata": {},
   "outputs": [],
   "source": [
    "data = data[['close','volume']] "
   ]
  },
  {
   "cell_type": "code",
   "execution_count": 7,
   "metadata": {},
   "outputs": [],
   "source": [
    "data['future_value'] = data['close'].shift(-future_look_period)\n",
    "data.dropna(inplace = True)"
   ]
  },
  {
   "cell_type": "code",
   "execution_count": 8,
   "metadata": {},
   "outputs": [],
   "source": [
    "data['target'] = data.apply(lambda row : 1 if (row['future_value'] >  row['close']) else 0, axis = 1) "
   ]
  },
  {
   "cell_type": "code",
   "execution_count": 9,
   "metadata": {},
   "outputs": [],
   "source": [
    "trainSet, testSet,_ = np.split(data,[int(0.95*len(data)),len(data)])"
   ]
  },
  {
   "cell_type": "code",
   "execution_count": 10,
   "metadata": {},
   "outputs": [],
   "source": [
    "def preprocess_data(data_pre):\n",
    "    data_pre.drop('future_value',axis = 1)\n",
    "    for col in data_pre.columns:\n",
    "        if col != 'target':\n",
    "            data_pre[col] = data_pre[col].pct_change()\n",
    "            data_pre.dropna(inplace = True)\n",
    "            data_pre[col] = preprocessing.scale(data_pre[col].values)\n",
    "    data_pre.dropna(inplace = True)\n",
    "    sequential_data = []\n",
    "    prev_days = collections.deque(maxlen = look_back_period)\n",
    "    for i in data_pre.values:\n",
    "        prev_days.append([n for n in i[:-1]])\n",
    "        if len(prev_days) == look_back_period:\n",
    "            sequential_data.append([np.array(prev_days),i[-1]])\n",
    "    random.shuffle(sequential_data)\n",
    "    buys = []\n",
    "    sells= []\n",
    "    for seq,target in sequential_data:\n",
    "        if target == 0:\n",
    "            sells.append([seq,target])\n",
    "        else:\n",
    "            buys.append([seq,target])\n",
    "    low_value = min(len(sells),len(buys))\n",
    "    buys = buys [:low_value]\n",
    "    sells = sells [:low_value]\n",
    "    final_sequence = buys+sells\n",
    "    random.shuffle(final_sequence)\n",
    "    inputs = []\n",
    "    decision = []\n",
    "    for seq, target in final_sequence:\n",
    "        inputs.append(seq)\n",
    "        decision.append(target)\n",
    "    return np.array(inputs), np.array(decision)"
   ]
  },
  {
   "cell_type": "code",
   "execution_count": 11,
   "metadata": {},
   "outputs": [],
   "source": [
    "trainInputs, trainTargets = preprocess_data(trainSet)\n",
    "testInputs, testTargets = preprocess_data(testSet)"
   ]
  },
  {
   "cell_type": "code",
   "execution_count": 12,
   "metadata": {},
   "outputs": [],
   "source": [
    "model = tf.keras.Sequential([\n",
    "        tf.keras.layers.LSTM(128, activation='tanh', recurrent_activation='sigmoid',return_sequences=True,dropout=0.2,input_shape = trainInputs.shape[1:]),\n",
    "        tf.keras.layers.LSTM(128, activation='tanh', recurrent_activation='sigmoid',return_sequences=True,dropout=0.2),\n",
    "        tf.keras.layers.LSTM(128, activation='tanh', recurrent_activation='sigmoid',return_sequences=False,dropout=0.2),\n",
    "        tf.keras.layers.Dense(64,activation='relu'),\n",
    "        tf.keras.layers.Dense(32,activation='relu'),\n",
    "        tf.keras.layers.Dense(2,activation='softmax')\n",
    "])"
   ]
  },
  {
   "cell_type": "code",
   "execution_count": 13,
   "metadata": {},
   "outputs": [],
   "source": [
    "model.compile(loss='sparse_categorical_crossentropy',\n",
    "              optmizer='adam',\n",
    "              metrics=['accuracy']\n",
    "             )"
   ]
  },
  {
   "cell_type": "code",
   "execution_count": 14,
   "metadata": {},
   "outputs": [
    {
     "name": "stdout",
     "output_type": "stream",
     "text": [
      "Train on 88066 samples, validate on 4356 samples\n",
      "Epoch 1/5\n",
      "88066/88066 [==============================] - 380s 4ms/sample - loss: 0.4080 - accuracy: 0.8130 - val_loss: 0.2390 - val_accuracy: 0.9213\n",
      "Epoch 2/5\n",
      "88066/88066 [==============================] - 390s 4ms/sample - loss: 0.3534 - accuracy: 0.8475 - val_loss: 0.2016 - val_accuracy: 0.9304\n",
      "Epoch 3/5\n",
      "88066/88066 [==============================] - 383s 4ms/sample - loss: 0.3392 - accuracy: 0.8584 - val_loss: 0.2011 - val_accuracy: 0.9284\n",
      "Epoch 4/5\n",
      "88066/88066 [==============================] - 426s 5ms/sample - loss: 0.3346 - accuracy: 0.8635 - val_loss: 0.1855 - val_accuracy: 0.9527\n",
      "Epoch 5/5\n",
      "88066/88066 [==============================] - 453s 5ms/sample - loss: 0.3318 - accuracy: 0.8647 - val_loss: 0.2029 - val_accuracy: 0.9339\n"
     ]
    },
    {
     "data": {
      "text/plain": [
       "<tensorflow.python.keras.callbacks.History at 0x7f512c65e110>"
      ]
     },
     "execution_count": 14,
     "metadata": {},
     "output_type": "execute_result"
    }
   ],
   "source": [
    "model.fit(trainInputs, trainTargets,validation_data=(testInputs, testTargets),epochs=5,batch_size=40)"
   ]
  },
  {
   "cell_type": "code",
   "execution_count": 17,
   "metadata": {},
   "outputs": [
    {
     "name": "stdout",
     "output_type": "stream",
     "text": [
      "INFO:tensorflow:Assets written to: cryptoPrediction.model/assets\n"
     ]
    }
   ],
   "source": [
    "model.save('cryptoPrediction.model')"
   ]
  },
  {
   "cell_type": "code",
   "execution_count": null,
   "metadata": {},
   "outputs": [],
   "source": []
  }
 ],
 "metadata": {
  "kernelspec": {
   "display_name": "Python [conda env:py3-TF2.0] *",
   "language": "python",
   "name": "conda-env-py3-TF2.0-py"
  },
  "language_info": {
   "codemirror_mode": {
    "name": "ipython",
    "version": 3
   },
   "file_extension": ".py",
   "mimetype": "text/x-python",
   "name": "python",
   "nbconvert_exporter": "python",
   "pygments_lexer": "ipython3",
   "version": "3.7.6"
  }
 },
 "nbformat": 4,
 "nbformat_minor": 4
}
